{
 "cells": [
  {
   "cell_type": "code",
   "execution_count": null,
   "source": [
    "internal class Student\r\n",
    "{\r\n",
    "    public string FirstName {get; set;}\r\n",
    "    public string LastName {get; set;}\r\n",
    "    public byte Age {get; set;}\r\n",
    "    public bool IsEnrolled {get; set;}\r\n",
    "    \r\n",
    "    public Student(){}\r\n",
    "}"
   ],
   "outputs": [],
   "metadata": {
    "dotnet_interactive": {
     "language": "csharp"
    }
   }
  },
  {
   "cell_type": "code",
   "execution_count": null,
   "source": [
    "var student = new Student();\r\n",
    "student.FirstName = \"La Quoc\";\r\n",
    "student.LastName = \"Thang\";\r\n",
    "student.Age = 23;\r\n",
    "student.IsEnrolled = true;\r\n",
    "\r\n",
    "display(student);"
   ],
   "outputs": [
    {
     "data": {
      "text/html": [
       "<table><thead><tr><th>FirstName</th><th>LastName</th><th>Age</th><th>IsEnrolled</th></tr></thead><tbody><tr><td><div class=\"dni-plaintext\">La Quoc</div></td><td><div class=\"dni-plaintext\">Thang</div></td><td><div class=\"dni-plaintext\">23</div></td><td><div class=\"dni-plaintext\">True</div></td></tr></tbody></table>"
      ]
     },
     "metadata": {},
     "output_type": "display_data"
    }
   ],
   "metadata": {
    "dotnet_interactive": {
     "language": "csharp"
    }
   }
  },
  {
   "cell_type": "code",
   "execution_count": null,
   "source": [
    "\r\n",
    "public class Student {\r\n",
    "    public string FirstName { get; set; }\r\n",
    "    public string LastName { get; set; }\r\n",
    "    public byte Age { get; set; }\r\n",
    "    public bool IsEnrolled { get; set; }\r\n",
    "    \r\n",
    "    public Student(string firstName, string lastName, byte age) \r\n",
    "    {\r\n",
    "        \r\n",
    "        this.FirstName = firstName;\r\n",
    "        this.LastName = lastName;\r\n",
    "        this.Age = age;\r\n",
    "         // A student is enrolled by default\r\n",
    "        IsEnrolled = true;\r\n",
    "    }\r\n",
    "}"
   ],
   "outputs": [],
   "metadata": {
    "dotnet_interactive": {
     "language": "csharp"
    }
   }
  },
  {
   "cell_type": "code",
   "execution_count": null,
   "source": [
    "var student = new Student(\"La Quoc\", \"Thang\", 23);\r\n",
    "\r\n",
    "display(student);"
   ],
   "outputs": [
    {
     "data": {
      "text/html": [
       "<table><thead><tr><th>FirstName</th><th>LastName</th><th>Age</th><th>IsEnrolled</th></tr></thead><tbody><tr><td><div class=\"dni-plaintext\">La Quoc</div></td><td><div class=\"dni-plaintext\">Thang</div></td><td><div class=\"dni-plaintext\">23</div></td><td><div class=\"dni-plaintext\">True</div></td></tr></tbody></table>"
      ]
     },
     "metadata": {},
     "output_type": "display_data"
    }
   ],
   "metadata": {
    "dotnet_interactive": {
     "language": "csharp"
    }
   }
  },
  {
   "cell_type": "code",
   "execution_count": null,
   "source": [
    "public class Student {\r\n",
    "    public string FirstName { get; set; }\r\n",
    "    public string LastName { get; set; }\r\n",
    "    internal int Age { get; private set; }\r\n",
    "    public bool IsEnrolled { get; set; }\r\n",
    "    \r\n",
    "    private Student() { IsEnrolled = true; }\r\n",
    "    \r\n",
    "    public Student(int age) : this()\r\n",
    "    {\r\n",
    "        this.Age = age;\r\n",
    "    }\r\n",
    "}"
   ],
   "outputs": [],
   "metadata": {
    "dotnet_interactive": {
     "language": "csharp"
    }
   }
  },
  {
   "cell_type": "code",
   "execution_count": null,
   "source": [
    "var student = new Student(23);\r\n",
    "display(student);"
   ],
   "outputs": [
    {
     "data": {
      "text/html": [
       "<table><thead><tr><th>FirstName</th><th>LastName</th><th>Age</th><th>IsEnrolled</th></tr></thead><tbody><tr><td><div class=\"dni-plaintext\">&lt;null&gt;</div></td><td><div class=\"dni-plaintext\">&lt;null&gt;</div></td><td><div class=\"dni-plaintext\">23</div></td><td><div class=\"dni-plaintext\">True</div></td></tr></tbody></table>"
      ]
     },
     "metadata": {},
     "output_type": "display_data"
    }
   ],
   "metadata": {
    "dotnet_interactive": {
     "language": "csharp"
    }
   }
  },
  {
   "cell_type": "code",
   "execution_count": null,
   "source": [
    "public class Student {\r\n",
    "    public string FirstName { get; set; }\r\n",
    "    public string LastName { get; set; }\r\n",
    "    public byte Age { get; set; }\r\n",
    "    \r\n",
    "    // Define the IsEnrolled property with a default value of True\r\n",
    "    public bool IsEnrolled { get; set; } = true;\r\n",
    "}"
   ],
   "outputs": [],
   "metadata": {
    "dotnet_interactive": {
     "language": "csharp"
    }
   }
  },
  {
   "cell_type": "code",
   "execution_count": null,
   "source": [
    "var student = new Student();\r\n",
    "display(student);"
   ],
   "outputs": [
    {
     "data": {
      "text/html": [
       "<table><thead><tr><th>FirstName</th><th>LastName</th><th>Age</th><th>IsEnrolled</th></tr></thead><tbody><tr><td><div class=\"dni-plaintext\">&lt;null&gt;</div></td><td><div class=\"dni-plaintext\">&lt;null&gt;</div></td><td><div class=\"dni-plaintext\">0</div></td><td><div class=\"dni-plaintext\">True</div></td></tr></tbody></table>"
      ]
     },
     "metadata": {},
     "output_type": "display_data"
    }
   ],
   "metadata": {
    "dotnet_interactive": {
     "language": "csharp"
    }
   }
  },
  {
   "cell_type": "code",
   "execution_count": null,
   "source": [
    "public class Student \r\n",
    "{\r\n",
    "    \r\n",
    "    public string FirstName { get; set; }\r\n",
    "    public string LastName { get; set; }\r\n",
    "    public byte Age { get; set; }\r\n",
    "    \r\n",
    "    // Define the IsEnrolled property with a default value of True\r\n",
    "    public bool IsEnrolled { get; set; } = true;\r\n",
    "\r\n",
    "    public override string ToString()\r\n",
    "    {\r\n",
    "        return $\"{FirstName} {LastName}\";\r\n",
    "    }\r\n",
    "}"
   ],
   "outputs": [],
   "metadata": {
    "dotnet_interactive": {
     "language": "csharp"
    }
   }
  },
  {
   "cell_type": "code",
   "execution_count": null,
   "source": [
    "var student = new Student();\r\n",
    "student.FirstName = \"La Quoc\";\r\n",
    "student.LastName = \"Thang\";\r\n",
    "\r\n",
    "display(student);"
   ],
   "outputs": [
    {
     "data": {
      "text/html": [
       "<table><thead><tr><th>FirstName</th><th>LastName</th><th>Age</th><th>IsEnrolled</th></tr></thead><tbody><tr><td><div class=\"dni-plaintext\">La Quoc</div></td><td><div class=\"dni-plaintext\">Thang</div></td><td><div class=\"dni-plaintext\">0</div></td><td><div class=\"dni-plaintext\">True</div></td></tr></tbody></table>"
      ]
     },
     "metadata": {},
     "output_type": "display_data"
    }
   ],
   "metadata": {
    "dotnet_interactive": {
     "language": "csharp"
    }
   }
  },
  {
   "cell_type": "code",
   "execution_count": null,
   "source": [
    "Console.WriteLine(student);"
   ],
   "outputs": [
    {
     "output_type": "stream",
     "name": "stdout",
     "text": [
      "La Quoc Thang\r\n"
     ]
    }
   ],
   "metadata": {
    "dotnet_interactive": {
     "language": "csharp"
    }
   }
  },
  {
   "cell_type": "code",
   "execution_count": null,
   "source": [
    "public record StudentRecord (string FirstName, string LastName, int Age);\r\n",
    "\r\n",
    "var s = new StudentRecord(\"La Quoc\", \"Thang\", 30);\r\n",
    "display(s);\r\n",
    "\r\n",
    "display(s.ToString());"
   ],
   "outputs": [
    {
     "data": {
      "text/html": [
       "<table><thead><tr><th>FirstName</th><th>LastName</th><th>Age</th></tr></thead><tbody><tr><td><div class=\"dni-plaintext\">La Quoc</div></td><td><div class=\"dni-plaintext\">Thang</div></td><td><div class=\"dni-plaintext\">30</div></td></tr></tbody></table>"
      ]
     },
     "metadata": {},
     "output_type": "display_data"
    },
    {
     "data": {
      "text/plain": [
       "StudentRecord { FirstName = La Quoc, LastName = Thang, Age = 30 }"
      ]
     },
     "metadata": {},
     "output_type": "display_data"
    }
   ],
   "metadata": {
    "dotnet_interactive": {
     "language": "csharp"
    }
   }
  }
 ],
 "metadata": {
  "orig_nbformat": 4,
  "language_info": {
   "file_extension": ".cs",
   "mimetype": "text/x-csharp",
   "name": "C#",
   "pygments_lexer": "csharp",
   "version": "9.0"
  },
  "kernelspec": {
   "display_name": ".NET (C#)",
   "language": "C#",
   "name": ".net-csharp"
  }
 },
 "nbformat": 4,
 "nbformat_minor": 2
}