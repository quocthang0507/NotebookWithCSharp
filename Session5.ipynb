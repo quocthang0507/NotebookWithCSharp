{
 "cells": [
  {
   "cell_type": "code",
   "execution_count": null,
   "metadata": {
    "dotnet_interactive": {
     "language": "csharp"
    }
   },
   "outputs": [
    {
     "data": {
      "text/plain": [
       "Array is created: True"
      ]
     },
     "metadata": {},
     "output_type": "display_data"
    },
    {
     "data": {
      "text/plain": [
       "Array is null: False"
      ]
     },
     "metadata": {},
     "output_type": "display_data"
    },
    {
     "data": {
      "text/plain": [
       "Array Size: 3"
      ]
     },
     "metadata": {},
     "output_type": "display_data"
    },
    {
     "data": {
      "text/plain": [
       "Array Size: 3"
      ]
     },
     "metadata": {},
     "output_type": "display_data"
    }
   ],
   "source": [
    "int[] numbers;\n",
    "\n",
    "// Numbers doesn't contain anything, as it wasn't assigned yet\n",
    "display(\"Array is created: \" + (numbers == null).ToString());\n",
    "\n",
    "// Create an array by using square brackets containing a size \n",
    "numbers = new int[3];\n",
    "display(\"Array is null: \" + (numbers == null).ToString());\n",
    "\n",
    "// The read-only Length property shows the number of elements in the array  \n",
    "display(\"Array Size: \"  + numbers.Length);\n",
    "\n",
    "// Declare the array with initial values\n",
    "var fullArrayOfNumbers = new int[3] {1, 2, 3};\n",
    "display(\"Array Size: \" + fullArrayOfNumbers.Length);"
   ]
  },
  {
   "cell_type": "code",
   "execution_count": null,
   "metadata": {
    "dotnet_interactive": {
     "language": "csharp"
    }
   },
   "outputs": [
    {
     "data": {
      "text/html": [
       "<div class=\"dni-plaintext\">6</div>"
      ]
     },
     "metadata": {},
     "output_type": "display_data"
    },
    {
     "data": {
      "text/html": [
       "<div class=\"dni-plaintext\">2</div>"
      ]
     },
     "metadata": {},
     "output_type": "display_data"
    }
   ],
   "source": [
    "// You can work with multi-dimensional arrays as well\n",
    "var matrix = new int[3,2] { {1,2}, {3,4}, {5,6} };\n",
    "display(matrix.Length);\n",
    "\n",
    "// Access elements of the multi-dimensional using a comma between index values\n",
    "matrix[0,1]"
   ]
  },
  {
   "cell_type": "code",
   "execution_count": null,
   "metadata": {
    "dotnet_interactive": {
     "language": "csharp"
    }
   },
   "outputs": [
    {
     "data": {
      "text/html": [
       "<table><thead><tr><th><i>index</i></th><th>value</th></tr></thead><tbody><tr><td>0</td><td><div class=\"dni-plaintext\">1</div></td></tr><tr><td>1</td><td><div class=\"dni-plaintext\">2</div></td></tr><tr><td>2</td><td><div class=\"dni-plaintext\">3</div></td></tr></tbody></table>"
      ]
     },
     "metadata": {},
     "output_type": "display_data"
    }
   ],
   "source": [
    "var myNumbers = new int[] {1,2,3};\n",
    "display(myNumbers);"
   ]
  },
  {
   "cell_type": "code",
   "execution_count": null,
   "metadata": {
    "dotnet_interactive": {
     "language": "csharp"
    }
   },
   "outputs": [
    {
     "data": {
      "text/html": [
       "<table><thead><tr><th><i>index</i></th><th>value</th></tr></thead><tbody><tr><td>0</td><td><div class=\"dni-plaintext\">1</div></td></tr><tr><td>1</td><td><div class=\"dni-plaintext\">1</div></td></tr><tr><td>2</td><td><div class=\"dni-plaintext\">1</div></td></tr></tbody></table>"
      ]
     },
     "metadata": {},
     "output_type": "display_data"
    }
   ],
   "source": [
    "var myOneArray = new int[3];\n",
    "Array.Fill(myOneArray, 1);\n",
    "\n",
    "myOneArray"
   ]
  },
  {
   "cell_type": "code",
   "execution_count": null,
   "metadata": {
    "dotnet_interactive": {
     "language": "csharp"
    }
   },
   "outputs": [
    {
     "data": {
      "text/html": [
       "<table><thead><tr><th><i>key</i></th><th>value</th></tr></thead><tbody><tr><td>jpg</td><td>Jpeg Compressed Images</td></tr><tr><td>mp3</td><td>Compressed Music</td></tr><tr><td>txt</td><td>Plain text</td></tr></tbody></table>"
      ]
     },
     "metadata": {},
     "output_type": "display_data"
    }
   ],
   "source": [
    "//var fileExt = new Hashtable();\n",
    "var fileExt = new SortedList();\n",
    "fileExt.Add(\"txt\", \"Plain text\");\n",
    "fileExt.Add(\"mp3\", \"Compressed Music\");\n",
    "fileExt.Add(\"jpg\", \"Jpeg Compressed Images\");\n",
    "\n",
    "fileExt"
   ]
  },
  {
   "cell_type": "code",
   "execution_count": null,
   "metadata": {
    "dotnet_interactive": {
     "language": "csharp"
    }
   },
   "outputs": [
    {
     "data": {
      "text/plain": [
       "jpg"
      ]
     },
     "metadata": {},
     "output_type": "display_data"
    },
    {
     "data": {
      "text/plain": [
       "mp3"
      ]
     },
     "metadata": {},
     "output_type": "display_data"
    },
    {
     "data": {
      "text/plain": [
       "txt"
      ]
     },
     "metadata": {},
     "output_type": "display_data"
    }
   ],
   "source": [
    "foreach (var kv in fileExt) \n",
    "{\n",
    "    display(((DictionaryEntry)kv).Key);\n",
    "}"
   ]
  },
  {
   "cell_type": "code",
   "execution_count": null,
   "metadata": {
    "dotnet_interactive": {
     "language": "csharp"
    }
   },
   "outputs": [
    {
     "data": {
      "text/html": [
       "<table><thead><tr><th><i>index</i></th><th>value</th></tr></thead><tbody><tr><td>0</td><td>First</td></tr><tr><td>1</td><td>Second</td></tr><tr><td>2</td><td>Third</td></tr></tbody></table>"
      ]
     },
     "metadata": {},
     "output_type": "display_data"
    }
   ],
   "source": [
    "var myQueue = new Queue();\n",
    "myQueue.Enqueue(\"First\");\n",
    "myQueue.Enqueue(\"Second\");\n",
    "\n",
    "myQueue.Enqueue(\"Third\");\n",
    "\n",
    "myQueue"
   ]
  },
  {
   "cell_type": "code",
   "execution_count": null,
   "metadata": {
    "dotnet_interactive": {
     "language": "csharp"
    }
   },
   "outputs": [
    {
     "data": {
      "text/plain": [
       "First"
      ]
     },
     "metadata": {},
     "output_type": "display_data"
    }
   ],
   "source": [
    "var z = myQueue.Dequeue();\n",
    "z"
   ]
  },
  {
   "cell_type": "code",
   "execution_count": null,
   "metadata": {
    "dotnet_interactive": {
     "language": "csharp"
    }
   },
   "outputs": [
    {
     "data": {
      "text/html": [
       "<table><thead><tr><th><i>index</i></th><th>value</th></tr></thead><tbody><tr><td>0</td><td>Second</td></tr><tr><td>1</td><td>Third</td></tr></tbody></table>"
      ]
     },
     "metadata": {},
     "output_type": "display_data"
    }
   ],
   "source": [
    "myQueue"
   ]
  },
  {
   "cell_type": "code",
   "execution_count": null,
   "metadata": {
    "dotnet_interactive": {
     "language": "csharp"
    }
   },
   "outputs": [
    {
     "data": {
      "text/html": [
       "<table><thead><tr><th><i>index</i></th><th>value</th></tr></thead><tbody><tr><td>0</td><td>9-c</td></tr><tr><td>1</td><td>9-s</td></tr><tr><td>2</td><td>9-h</td></tr><tr><td>3</td><td>A-s</td></tr><tr><td>4</td><td>A-d</td></tr></tbody></table>"
      ]
     },
     "metadata": {},
     "output_type": "display_data"
    }
   ],
   "source": [
    "var myHand = new Stack();\n",
    "myHand.Push(\"A-d\");\n",
    "myHand.Push(\"A-s\");\n",
    "myHand.Push(\"9-h\");\n",
    "myHand.Push(\"9-s\");\n",
    "myHand.Push(\"9-c\");\n",
    "\n",
    "myHand"
   ]
  },
  {
   "cell_type": "code",
   "execution_count": null,
   "metadata": {
    "dotnet_interactive": {
     "language": "csharp"
    }
   },
   "outputs": [
    {
     "data": {
      "text/plain": [
       "9-c"
      ]
     },
     "metadata": {},
     "output_type": "display_data"
    }
   ],
   "source": [
    "var myCard = myHand.Peek();\n",
    "myCard"
   ]
  },
  {
   "cell_type": "code",
   "execution_count": null,
   "metadata": {
    "dotnet_interactive": {
     "language": "csharp"
    }
   },
   "outputs": [
    {
     "data": {
      "text/html": [
       "<table><thead><tr><th><i>index</i></th><th>value</th></tr></thead><tbody><tr><td>0</td><td>9-c</td></tr><tr><td>1</td><td>9-s</td></tr><tr><td>2</td><td>9-h</td></tr><tr><td>3</td><td>A-s</td></tr><tr><td>4</td><td>A-d</td></tr></tbody></table>"
      ]
     },
     "metadata": {},
     "output_type": "display_data"
    }
   ],
   "source": [
    "myHand"
   ]
  },
  {
   "cell_type": "code",
   "execution_count": null,
   "metadata": {
    "dotnet_interactive": {
     "language": "csharp"
    }
   },
   "outputs": [],
   "source": [
    "class Card {\n",
    "    public string Rank;\n",
    "    public string Suit;\n",
    "    public Card(string id) {\n",
    "        Rank = id.Split('-')[0];\n",
    "        Suit = id.Split('-')[1];\n",
    "    }\n",
    "    public override string ToString() { return Rank + \"-\" + Suit; }\n",
    "}"
   ]
  },
  {
   "cell_type": "code",
   "execution_count": null,
   "metadata": {
    "dotnet_interactive": {
     "language": "csharp"
    }
   },
   "outputs": [
    {
     "data": {
      "text/html": [
       "<span><a href=\"https://docs.microsoft.com/dotnet/api/system.collections.generic.list-1?view=net-5.0\">System.Collections.Generic.List&lt;Submission#17+Card&gt;</a></span>"
      ]
     },
     "metadata": {},
     "output_type": "display_data"
    },
    {
     "data": {
      "text/html": [
       "<table><thead><tr><th><i>index</i></th><th>Rank</th><th>Suit</th></tr></thead><tbody><tr><td>0</td><td>A</td><td>d</td></tr><tr><td>1</td><td>J</td><td>d</td></tr><tr><td>2</td><td>9</td><td>c</td></tr><tr><td>3</td><td>8</td><td>s</td></tr></tbody></table>"
      ]
     },
     "metadata": {},
     "output_type": "display_data"
    }
   ],
   "source": [
    "// Declare the list with the specified type inside angle-brackets\n",
    "var listOfCards = new List<Card>();\n",
    "listOfCards.Add(new Card(\"A-d\"));\n",
    "listOfCards.Add(new Card(\"J-d\"));\n",
    "listOfCards.Add(new Card(\"9-c\"));\n",
    "listOfCards.Add(new Card(\"8-s\"));\n",
    "\n",
    "display(listOfCards.GetType());\n",
    "listOfCards"
   ]
  },
  {
   "cell_type": "code",
   "execution_count": null,
   "metadata": {
    "dotnet_interactive": {
     "language": "csharp"
    }
   },
   "outputs": [
    {
     "data": {
      "text/html": [
       "<table><thead><tr><th><i>index</i></th><th>Rank</th><th>Suit</th></tr></thead><tbody><tr><td>0</td><td>A</td><td>d</td></tr><tr><td>1</td><td>J</td><td>d</td></tr><tr><td>2</td><td>3</td><td>h</td></tr><tr><td>3</td><td>9</td><td>c</td></tr><tr><td>4</td><td>8</td><td>s</td></tr></tbody></table>"
      ]
     },
     "metadata": {},
     "output_type": "display_data"
    }
   ],
   "source": [
    "var ThreeHearts = new Card(\"3-h\");\n",
    "listOfCards.Insert(2, ThreeHearts);\n",
    "listOfCards"
   ]
  },
  {
   "cell_type": "code",
   "execution_count": null,
   "metadata": {
    "dotnet_interactive": {
     "language": "csharp"
    }
   },
   "outputs": [
    {
     "data": {
      "text/html": [
       "<table><thead><tr><th><i>key</i></th><th>value</th></tr></thead><tbody><tr><td>txt</td><td>Plain text</td></tr><tr><td>mp3</td><td>Compressed Music</td></tr><tr><td>jpg</td><td>Jpeg Compressed Images</td></tr></tbody></table>"
      ]
     },
     "metadata": {},
     "output_type": "display_data"
    }
   ],
   "source": [
    "var exts = new Dictionary<string, string>();\n",
    "exts.Add(\"txt\", \"Plain text\");\n",
    "exts.Add(\"mp3\", \"Compressed Music\");\n",
    "exts.Add(\"jpg\", \"Jpeg Compressed Images\");\n",
    "\n",
    "exts"
   ]
  },
  {
   "cell_type": "code",
   "execution_count": null,
   "metadata": {
    "dotnet_interactive": {
     "language": "csharp"
    }
   },
   "outputs": [
    {
     "data": {
      "text/html": [
       "<table><thead><tr><th><i>index</i></th><th>Rank</th><th>Suit</th></tr></thead><tbody><tr><td>0</td><td>J</td><td>c</td></tr><tr><td>1</td><td>A</td><td>c</td></tr><tr><td>2</td><td>9</td><td>d</td></tr><tr><td>3</td><td>3</td><td>h</td></tr></tbody></table>"
      ]
     },
     "metadata": {},
     "output_type": "display_data"
    }
   ],
   "source": [
    "var set = new HashSet<Card>();\n",
    "set.Add(new Card(\"J-c\"));\n",
    "set.Add(new Card(\"A-c\"));\n",
    "set.Add(new Card(\"9-d\"));\n",
    "\n",
    "var threeHearts = new Card(\"3-h\");\n",
    "set.Add(threeHearts);\n",
    "\n",
    "display(set);"
   ]
  },
  {
   "cell_type": "code",
   "execution_count": null,
   "metadata": {
    "dotnet_interactive": {
     "language": "csharp"
    }
   },
   "outputs": [
    {
     "data": {
      "text/html": [
       "<table><thead><tr><th><i>index</i></th><th>Rank</th><th>Suit</th></tr></thead><tbody><tr><td>0</td><td>J</td><td>c</td></tr><tr><td>1</td><td>A</td><td>c</td></tr><tr><td>2</td><td>9</td><td>d</td></tr><tr><td>3</td><td>3</td><td>h</td></tr></tbody></table>"
      ]
     },
     "metadata": {},
     "output_type": "display_data"
    }
   ],
   "source": [
    "set.Add(threeHearts);\n",
    "display(set);"
   ]
  },
  {
   "cell_type": "code",
   "execution_count": null,
   "metadata": {
    "dotnet_interactive": {
     "language": "csharp"
    }
   },
   "outputs": [],
   "source": [
    "class FritzSet<T> \n",
    "{\n",
    "    // This normally wouldn't be public scoped, but making it public for the notebook visualizer\n",
    "    // The <T> for this List<T> is the same type as the <T> that this class will be created with\n",
    "    public List<T> _Inner = new List<T>();\n",
    "    \n",
    "    // The newItem parameter will be of type T, matching the same type assigned when this class is created\n",
    "    public void Add(T newItem) \n",
    "    {\n",
    "        var insertAt = _Inner.Count == 0 ? 0 : new Random().Next(0,_Inner.Count+1);\n",
    "        _Inner.Insert(insertAt, newItem);\n",
    "    }\n",
    "    \n",
    "}"
   ]
  },
  {
   "cell_type": "code",
   "execution_count": null,
   "metadata": {
    "dotnet_interactive": {
     "language": "csharp"
    }
   },
   "outputs": [
    {
     "data": {
      "text/html": [
       "<table><thead><tr><th>_Inner</th></tr></thead><tbody><tr><td><div class=\"dni-plaintext\">[ 5, 4, 1, 2, 3 ]</div></td></tr></tbody></table>"
      ]
     },
     "metadata": {},
     "output_type": "display_data"
    }
   ],
   "source": [
    "var set = new FritzSet<int>();\n",
    "set.Add(1);\n",
    "set.Add(2);\n",
    "set.Add(3);\n",
    "set.Add(4);\n",
    "set.Add(5);\n",
    "set"
   ]
  },
  {
   "cell_type": "code",
   "execution_count": null,
   "metadata": {
    "dotnet_interactive": {
     "language": "csharp"
    }
   },
   "outputs": [],
   "source": [
    "var deck = new FritzSet<Card>();\n",
    "deck.Add(new Card(\"A-d\"));\n",
    "deck.Add(new Card(\"A-h\"));\n",
    "deck.Add(new Card(\"A-c\"));\n",
    "deck.Add(new Card(\"A-s\"));\n",
    "deck.Add(new Card(\"9-d\"));\n",
    "deck.Add(new Card(\"J-h\"));\n",
    "deck.Add(new Card(\"3-c\"));\n",
    "deck.Add(new Card(\"2-c\"));\n",
    "deck.Add(new Card(\"7-d\"));\n",
    "deck.Add(new Card(\"6-d\"));\n",
    "deck.Add(new Card(\"5-d\"));\n",
    "deck.Add(new Card(\"4-d\"));\n",
    "deck.Add(new Card(\"4-h\"));"
   ]
  },
  {
   "cell_type": "code",
   "execution_count": null,
   "metadata": {
    "dotnet_interactive": {
     "language": "csharp"
    }
   },
   "outputs": [
    {
     "data": {
      "text/html": [
       "<table><thead><tr><th><i>index</i></th><th>Rank</th><th>Suit</th></tr></thead><tbody><tr><td>0</td><td>7</td><td>d</td></tr><tr><td>1</td><td>5</td><td>d</td></tr><tr><td>2</td><td>4</td><td>d</td></tr><tr><td>3</td><td>A</td><td>d</td></tr><tr><td>4</td><td>6</td><td>d</td></tr><tr><td>5</td><td>9</td><td>d</td></tr></tbody></table>"
      ]
     },
     "metadata": {},
     "output_type": "display_data"
    },
    {
     "data": {
      "text/plain": [
       "Count of Diamonds cards: 6"
      ]
     },
     "metadata": {},
     "output_type": "display_data"
    }
   ],
   "source": [
    "display(deck._Inner.Where(c => c.Suit == \"d\"));\n",
    "\n",
    "// Count the returned collection after it is filtered\n",
    "display(\"Count of Diamonds cards: \" + deck._Inner.Where(c => c.Suit == \"d\").Count());"
   ]
  },
  {
   "cell_type": "code",
   "execution_count": null,
   "metadata": {
    "dotnet_interactive": {
     "language": "csharp"
    }
   },
   "outputs": [
    {
     "data": {
      "text/html": [
       "<div class=\"dni-plaintext\">1</div>"
      ]
     },
     "metadata": {},
     "output_type": "display_data"
    }
   ],
   "source": [
    "deck._Inner.Where(c => c.Suit == \"d\").Count(c => c.Rank == \"A\")"
   ]
  },
  {
   "cell_type": "code",
   "execution_count": null,
   "metadata": {
    "dotnet_interactive": {
     "language": "csharp"
    }
   },
   "outputs": [
    {
     "data": {
      "text/html": [
       "<table><thead><tr><th><i>index</i></th><th>value</th></tr></thead><tbody><tr><td>0</td><td>7</td></tr><tr><td>1</td><td>5</td></tr><tr><td>2</td><td>4</td></tr><tr><td>3</td><td>A</td></tr><tr><td>4</td><td>6</td></tr><tr><td>5</td><td>9</td></tr></tbody></table>"
      ]
     },
     "metadata": {},
     "output_type": "display_data"
    }
   ],
   "source": [
    "deck._Inner.Where(c => c.Suit == \"d\").Select(c => c.Rank)"
   ]
  }
 ],
 "metadata": {
  "kernelspec": {
   "display_name": ".NET (C#)",
   "language": "C#",
   "name": ".net-csharp"
  },
  "language_info": {
   "file_extension": ".cs",
   "mimetype": "text/x-csharp",
   "name": "C#",
   "pygments_lexer": "csharp",
   "version": "9.0"
  },
  "orig_nbformat": 4
 },
 "nbformat": 4,
 "nbformat_minor": 2
}
