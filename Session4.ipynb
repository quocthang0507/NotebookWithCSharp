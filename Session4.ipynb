{
 "cells": [
  {
   "cell_type": "code",
   "execution_count": null,
   "metadata": {
    "dotnet_interactive": {
     "language": "csharp"
    }
   },
   "outputs": [
    {
     "data": {
      "text/plain": [
       "Current seconds: 3"
      ]
     },
     "metadata": {},
     "output_type": "display_data"
    }
   ],
   "source": [
    "var seconds = DateTime.Now.Second;\n",
    "display(\"Current seconds: \" + seconds);\n",
    "\n",
    "if(seconds % 2 == 0)\n",
    "{\n",
    "    display(\"Seconds are even\");\n",
    "}"
   ]
  },
  {
   "cell_type": "code",
   "execution_count": null,
   "metadata": {
    "dotnet_interactive": {
     "language": "csharp"
    }
   },
   "outputs": [
    {
     "data": {
      "text/plain": [
       "Current seconds: 28"
      ]
     },
     "metadata": {},
     "output_type": "display_data"
    },
    {
     "data": {
      "text/plain": [
       "Seconds are even"
      ]
     },
     "metadata": {},
     "output_type": "display_data"
    },
    {
     "data": {
      "text/plain": [
       "This will always execute, even though it LOOKS LIKE its in the if statement"
      ]
     },
     "metadata": {},
     "output_type": "display_data"
    }
   ],
   "source": [
    "var seconds = DateTime.Now.Second;\n",
    "display(\"Current seconds: \" + seconds);\n",
    "\n",
    "if(seconds % 2 == 0)\n",
    "{\n",
    "    display(\"Seconds are even\");\n",
    "}\n",
    "else\n",
    "{\n",
    "    display(\"Seconds are odd\");\n",
    "}\n",
    "display(\"This will always execute, even though it LOOKS LIKE its in the if statement\");"
   ]
  },
  {
   "cell_type": "code",
   "execution_count": null,
   "metadata": {
    "dotnet_interactive": {
     "language": "csharp"
    }
   },
   "outputs": [
    {
     "data": {
      "text/plain": [
       "Current seconds: 7"
      ]
     },
     "metadata": {},
     "output_type": "display_data"
    },
    {
     "data": {
      "text/plain": [
       "Seconds are neither even nor a multiple of 3"
      ]
     },
     "metadata": {},
     "output_type": "display_data"
    }
   ],
   "source": [
    "public class MyTimeDisplay \n",
    "{\n",
    "    public string CalculateMessage()\n",
    "    {\n",
    "        var outValue = \"\";\n",
    "        var seconds = DateTime.Now.Second;\n",
    "        display(\"Current seconds: \" + seconds);\n",
    "\n",
    "        if (seconds % 2 == 0)\n",
    "        {\n",
    "            return \"Seconds are even\";\n",
    "        }\n",
    "        else if (seconds % 3 == 0)\n",
    "        {\n",
    "            return \"Seconds are a multiple of 3\";\n",
    "        }\n",
    "        else if (seconds % 5 == 0)\n",
    "        {\n",
    "            return \"Seconds are a multiple of 5\";\n",
    "        }\n",
    "        return \"Seconds are neither even nor a multiple of 3\";\n",
    "    }\n",
    "}\n",
    "\n",
    "var display = new MyTimeDisplay();\n",
    "display(display.CalculateMessage());"
   ]
  },
  {
   "cell_type": "code",
   "execution_count": null,
   "metadata": {
    "dotnet_interactive": {
     "language": "csharp"
    }
   },
   "outputs": [
    {
     "data": {
      "text/plain": [
       "Current seconds: 25"
      ]
     },
     "metadata": {},
     "output_type": "display_data"
    },
    {
     "data": {
      "text/plain": [
       "Seconds are a multiple of 5 OR 7"
      ]
     },
     "metadata": {},
     "output_type": "display_data"
    }
   ],
   "source": [
    "var seconds = DateTime.Now.Second;\n",
    "// seconds = 7;\n",
    "display(\"Current seconds: \" + seconds);\n",
    "\n",
    "// Test for BOTH multiple of 2 AND a multiple of 3\n",
    "if (seconds % 2 == 0 & seconds % 3 == 0) {\n",
    "    display(\"Seconds are even AND a multiple of 3\");\n",
    "} else if (seconds % 2 == 0) {\n",
    "    display(\"Seconds are even\");\n",
    "} else if (seconds % 3 == 0) {\n",
    "    display(\"Seconds are a multiple of 3\");\n",
    "\n",
    "// Test for seconds to be a multiple of 5 OR a multiple of 7\n",
    "} else if (seconds % 5 == 0 | seconds % 7 == 0) {\n",
    "    display(\"Seconds are a multiple of 5 OR 7\");\n",
    "} else {\n",
    "    display(\"Seconds are neither even nor a multiple of 3\");\n",
    "}"
   ]
  },
  {
   "cell_type": "code",
   "execution_count": null,
   "metadata": {
    "dotnet_interactive": {
     "language": "csharp"
    }
   },
   "outputs": [
    {
     "data": {
      "text/plain": [
       "I don't know what to do with this fruit"
      ]
     },
     "metadata": {},
     "output_type": "display_data"
    }
   ],
   "source": [
    "public class Orange {\n",
    "    public void MakeJuice() { display(\"Making orange juice\"); }\n",
    "}\n",
    "public class Apple {\n",
    "    public void MakePie() { display(\"Making apple pie\"); }\n",
    "}\n",
    "\n",
    "object fruit = null; // new Apple();\n",
    "\n",
    "// Is this object an Apple?\n",
    "if (fruit is Apple a) {\n",
    "    a.MakePie();\n",
    "    \n",
    "// Is it an Orange?\n",
    "} else if (fruit is Orange o) {\n",
    "    o.MakeJuice();\n",
    "    \n",
    "} else {\n",
    "    display(\"I don't know what to do with this fruit\");\n",
    "}"
   ]
  },
  {
   "cell_type": "code",
   "execution_count": null,
   "metadata": {
    "dotnet_interactive": {
     "language": "csharp"
    }
   },
   "outputs": [
    {
     "data": {
      "text/plain": [
       "The current seconds are: 45"
      ]
     },
     "metadata": {},
     "output_type": "display_data"
    },
    {
     "data": {
      "text/plain": [
       "Odd"
      ]
     },
     "metadata": {},
     "output_type": "display_data"
    },
    {
     "data": {
      "text/plain": [
       "Odd"
      ]
     },
     "metadata": {},
     "output_type": "display_data"
    }
   ],
   "source": [
    "\n",
    "// You can chain conditional operators too\n",
    "var seconds = DateTime.Now.Second;\n",
    "display(\"The current seconds are: \" + seconds);\n",
    "\n",
    "// be careful as this starts to become unreadable\n",
    "var result = seconds % 2 == 0 ? (seconds % 3 == 0 ? \"Even and Multiple of 3\" : \"Even\" ) : \"Odd\";\n",
    "display(result);\n",
    "\n",
    "var multipleOfThree = (seconds % 3 == 0 ? \"Even and Multiple of 3\" : \"Even\" );\n",
    "display(seconds % 2 == 0 ? multipleOfThree : \"Odd\");"
   ]
  },
  {
   "cell_type": "code",
   "execution_count": null,
   "metadata": {
    "dotnet_interactive": {
     "language": "csharp"
    }
   },
   "outputs": [
    {
     "data": {
      "text/plain": [
       "It's null"
      ]
     },
     "metadata": {},
     "output_type": "display_data"
    }
   ],
   "source": [
    "string myValue = null; //\"test\";\n",
    "\n",
    "display(myValue ?? \"It's null\");"
   ]
  },
  {
   "cell_type": "code",
   "execution_count": null,
   "metadata": {
    "dotnet_interactive": {
     "language": "csharp"
    }
   },
   "outputs": [
    {
     "data": {
      "text/plain": [
       "The weekend starts.... NOW!"
      ]
     },
     "metadata": {},
     "output_type": "display_data"
    }
   ],
   "source": [
    "var dayOfTheWeek = DateTime.Now.DayOfWeek;\n",
    "dayOfTheWeek = DayOfWeek.Friday;\n",
    "\n",
    "switch (dayOfTheWeek) {\n",
    "    case DayOfWeek.Monday:\n",
    "        display(\"Does somebody have a case of the Mondays?\");\n",
    "        break;\n",
    "    case DayOfWeek.Tuesday:\n",
    "        display(\"It's TACO TUESDAY at the cafe!\");\n",
    "        break;\n",
    "    case DayOfWeek.Wednesday:\n",
    "        display(\"Middle of the work-week... almost done!\");\n",
    "        break;\n",
    "    case DayOfWeek.Thursday:\n",
    "        display(\"Friday is ALMOST HERE!!\");\n",
    "        break;\n",
    "    case DayOfWeek.Friday:\n",
    "        display(\"The weekend starts.... NOW!\");\n",
    "        break;\n",
    "    case DayOfWeek.Saturday:\n",
    "        display(\"Relaxing... no school, no work...\");\n",
    "        break;\n",
    "    case DayOfWeek.Sunday:\n",
    "        display(\"School and work tomorrow?  Better have some fun NOW!\");\n",
    "        break;\n",
    "    default:\n",
    "        display(\"I don't care what day of the week it is... we're on HOLIDAY!\");\n",
    "        break;\n",
    "}"
   ]
  }
 ],
 "metadata": {
  "kernelspec": {
   "display_name": ".NET (C#)",
   "language": "C#",
   "name": ".net-csharp"
  },
  "language_info": {
   "file_extension": ".cs",
   "mimetype": "text/x-csharp",
   "name": "C#",
   "pygments_lexer": "csharp",
   "version": "9.0"
  },
  "orig_nbformat": 4
 },
 "nbformat": 4,
 "nbformat_minor": 2
}
