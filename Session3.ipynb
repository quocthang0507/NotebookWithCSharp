{
 "cells": [
  {
   "cell_type": "code",
   "execution_count": null,
   "source": [
    "class Student {\r\n",
    "    public void Enroll() \r\n",
    "    {\r\n",
    "        // do enrollment steps\r\n",
    "    }\r\n",
    "    \r\n",
    "    internal void LeaveClassEarly(DateTime departureTime) \r\n",
    "    {\r\n",
    "        // leave class code\r\n",
    "    }\r\n",
    "    \r\n",
    "    public decimal CalculateGradeForClass(string className, int yearEnrolled) \r\n",
    "    {\r\n",
    "        // grade calculation code\r\n",
    "        return 0.80m;\r\n",
    "    }\r\n",
    "    \r\n",
    "    public decimal CalculateGradeForClass(string className) \r\n",
    "    {\r\n",
    "        return CalculateGradeForClass(className, DateTime.Now.Year);\r\n",
    "    }\r\n",
    "    \r\n",
    "    public class Grade {\r\n",
    "        public string NameOfClass { get; set; }\r\n",
    "    }\r\n",
    "}"
   ],
   "outputs": [],
   "metadata": {
    "dotnet_interactive": {
     "language": "csharp"
    }
   }
  },
  {
   "cell_type": "code",
   "execution_count": null,
   "source": [
    "var student = new Student();\r\n",
    "display(\"Grade for this year: \" + student.CalculateGradeForClass(\"Vat ly Dai cuong\"));\r\n",
    "display(\"Grade for 2020: \" + student.CalculateGradeForClass(\"Nguyen Ly Ke Toan\", 2020));"
   ],
   "outputs": [
    {
     "data": {
      "text/plain": [
       "Grade for this year: 0.80"
      ]
     },
     "metadata": {},
     "output_type": "display_data"
    },
    {
     "data": {
      "text/plain": [
       "Grade for 2020: 0.80"
      ]
     },
     "metadata": {},
     "output_type": "display_data"
    }
   ],
   "metadata": {
    "dotnet_interactive": {
     "language": "csharp"
    }
   }
  },
  {
   "cell_type": "code",
   "execution_count": null,
   "source": [
    "class Student {\r\n",
    "    public delegate int CalculateHandler(int arg1, int arg2);\r\n",
    "\r\n",
    "    public int Calculate(int arg1, int arg2, CalculateHandler handler)\r\n",
    "    {\r\n",
    "        var output = handler(arg1, arg2);\r\n",
    "        return output;\r\n",
    "    }\r\n",
    "\r\n",
    "    public int Add(int arg1, int arg2)\r\n",
    "    {\r\n",
    "        var output = arg1 + arg2;\r\n",
    "        display(\"Added: \" + output);\r\n",
    "        return output;\r\n",
    "    }\r\n",
    "\r\n",
    "    public int Subtract(int arg1, int arg2)\r\n",
    "    {\r\n",
    "        var output = arg1 - arg2;\r\n",
    "        display(\"Subtracted: \" + output);\r\n",
    "        return output;\r\n",
    "    }\r\n",
    "}"
   ],
   "outputs": [],
   "metadata": {
    "dotnet_interactive": {
     "language": "csharp"
    }
   }
  },
  {
   "cell_type": "code",
   "execution_count": null,
   "source": [
    "var student = new Student();\r\n",
    "\r\n",
    "var calcHandler = new Student.CalculateHandler(student.Add);\r\n",
    "student.Calculate(10, 5, calcHandler);"
   ],
   "outputs": [
    {
     "data": {
      "text/plain": [
       "Added: 15"
      ]
     },
     "metadata": {},
     "output_type": "display_data"
    }
   ],
   "metadata": {
    "dotnet_interactive": {
     "language": "csharp"
    }
   }
  },
  {
   "cell_type": "code",
   "execution_count": null,
   "source": [
    "var subHandler = new Student.CalculateHandler(student.Subtract);\r\n",
    "student.Calculate(20, 10, subHandler);"
   ],
   "outputs": [
    {
     "data": {
      "text/plain": [
       "Subtracted: 10"
      ]
     },
     "metadata": {},
     "output_type": "display_data"
    }
   ],
   "metadata": {
    "dotnet_interactive": {
     "language": "csharp"
    }
   }
  },
  {
   "cell_type": "code",
   "execution_count": null,
   "source": [
    "var multiply = new Student.CalculateHandler((x, y) => x * y);\r\n",
    "display(student.Calculate(12, 10, multiply));"
   ],
   "outputs": [
    {
     "data": {
      "text/html": [
       "<div class=\"dni-plaintext\">120</div>"
      ]
     },
     "metadata": {},
     "output_type": "display_data"
    }
   ],
   "metadata": {
    "dotnet_interactive": {
     "language": "csharp"
    }
   }
  },
  {
   "cell_type": "code",
   "execution_count": null,
   "source": [
    "var calculation = new Student.CalculateHandler(student.Subtract);\r\n",
    "calculation += new Student.CalculateHandler(student.Add);\r\n",
    "\r\n",
    "calculation += new Student.CalculateHandler((x, y) => {\r\n",
    "    var output = x * y;\r\n",
    "    display(\"Multiplied: \" + output);\r\n",
    "    return output;\r\n",
    "});\r\n",
    "\r\n",
    "student.Calculate(10, 5, calculation);"
   ],
   "outputs": [
    {
     "data": {
      "text/plain": [
       "Subtracted: 5"
      ]
     },
     "metadata": {},
     "output_type": "display_data"
    },
    {
     "data": {
      "text/plain": [
       "Added: 15"
      ]
     },
     "metadata": {},
     "output_type": "display_data"
    },
    {
     "data": {
      "text/plain": [
       "Multiplied: 50"
      ]
     },
     "metadata": {},
     "output_type": "display_data"
    }
   ],
   "metadata": {
    "dotnet_interactive": {
     "language": "csharp"
    }
   }
  },
  {
   "cell_type": "code",
   "execution_count": null,
   "source": [
    "class EnrolledEventArgs : EventArgs \r\n",
    "{\r\n",
    "    public short YearEnrolled {get; set;}\r\n",
    "}\r\n",
    "\r\n",
    "class Student \r\n",
    "{\r\n",
    "    public delegate void EnrolledEventHandler(object sender, EnrolledEventArgs args);\r\n",
    "    public event EnrolledEventHandler Enrolled;\r\n",
    "\r\n",
    "    public void Enroll()\r\n",
    "    {\r\n",
    "        Enrolled(this, new EnrolledEventArgs {YearEnrolled = 2021});\r\n",
    "    }\r\n",
    "}"
   ],
   "outputs": [],
   "metadata": {
    "dotnet_interactive": {
     "language": "csharp"
    }
   }
  },
  {
   "cell_type": "code",
   "execution_count": null,
   "source": [
    "var student = new Student();\r\n",
    "student.Enrolled += (sender, args) => display(\"I'm now enrolled for the year \" + args.YearEnrolled);\r\n",
    "student.Enroll();"
   ],
   "outputs": [
    {
     "data": {
      "text/plain": [
       "I'm now enrolled for the year 2021"
      ]
     },
     "metadata": {},
     "output_type": "display_data"
    }
   ],
   "metadata": {
    "dotnet_interactive": {
     "language": "csharp"
    }
   }
  }
 ],
 "metadata": {
  "orig_nbformat": 4,
  "language_info": {
   "file_extension": ".cs",
   "mimetype": "text/x-csharp",
   "name": "C#",
   "pygments_lexer": "csharp",
   "version": "9.0"
  },
  "kernelspec": {
   "display_name": ".NET (C#)",
   "language": "C#",
   "name": ".net-csharp"
  }
 },
 "nbformat": 4,
 "nbformat_minor": 2
}